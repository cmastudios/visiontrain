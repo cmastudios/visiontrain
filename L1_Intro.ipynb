{
  "nbformat": 4,
  "nbformat_minor": 0,
  "metadata": {
    "colab": {
      "name": "L1 Intro",
      "provenance": [],
      "collapsed_sections": [],
      "authorship_tag": "ABX9TyMZnJnNUHQFkInbgZ5/QgTf",
      "include_colab_link": true
    },
    "kernelspec": {
      "name": "python3",
      "display_name": "Python 3"
    }
  },
  "cells": [
    {
      "cell_type": "markdown",
      "metadata": {
        "id": "view-in-github",
        "colab_type": "text"
      },
      "source": [
        "<a href=\"https://colab.research.google.com/github/cmastudios/visiontrain/blob/main/L1_Intro.ipynb\" target=\"_parent\"><img src=\"https://colab.research.google.com/assets/colab-badge.svg\" alt=\"Open In Colab\"/></a>"
      ]
    },
    {
      "cell_type": "code",
      "metadata": {
        "id": "ttTKrh7OH_hn"
      },
      "source": [
        "import numpy as np\n",
        "import scipy\n",
        "import scipy.signal\n",
        "import matplotlib.pyplot as plt\n",
        "from PIL import Image\n",
        "import requests\n",
        "from io import BytesIO\n",
        "import ipywidgets\n",
        "import cv2"
      ],
      "execution_count": null,
      "outputs": []
    },
    {
      "cell_type": "code",
      "metadata": {
        "id": "Y2yBmfF2IE1o"
      },
      "source": [
        "image = Image.open(BytesIO(requests.get(\"http://public.connor.money.s3.amazonaws.com/IMG_6183.JPG\").content))\n",
        "plt.imshow(image)"
      ],
      "execution_count": null,
      "outputs": []
    },
    {
      "cell_type": "code",
      "metadata": {
        "id": "wkFJVXEsmfHe"
      },
      "source": [
        "gray = np.dot(image, [1/3, 1/3, 1/3])\n",
        "plt.imshow(gray, cmap='gray')"
      ],
      "execution_count": null,
      "outputs": []
    },
    {
      "cell_type": "code",
      "metadata": {
        "id": "a4FUM7uiMD1R"
      },
      "source": [
        "def f(x):\n",
        "  global thresh\n",
        "  thresh = gray > x\n",
        "  plt.imshow(thresh, cmap='gray')\n",
        "\n",
        "ipywidgets.interact(f, x=ipywidgets.IntSlider(min=0, max=255, step=1, value=100));"
      ],
      "execution_count": null,
      "outputs": []
    },
    {
      "cell_type": "code",
      "metadata": {
        "id": "PjzHLbUdMs07"
      },
      "source": [
        "kernel = np.array([[0, 1, 0],\n",
        "                   [1, 1, 1],\n",
        "                   [0, 1, 0]])\n",
        "eroded = scipy.signal.convolve2d(thresh, kernel, mode='same') == 5\n",
        "plt.imshow(eroded, cmap='gray')"
      ],
      "execution_count": null,
      "outputs": []
    },
    {
      "cell_type": "code",
      "metadata": {
        "id": "8YmmjDC5ROFq"
      },
      "source": [
        "kernel = np.array([[0, 1, 0],\n",
        "                   [1, 1, 1],\n",
        "                   [0, 1, 0]])\n",
        "dilated = scipy.signal.convolve2d(eroded, kernel, mode='same') > 0\n",
        "plt.imshow(dilated, cmap='gray')"
      ],
      "execution_count": null,
      "outputs": []
    },
    {
      "cell_type": "code",
      "metadata": {
        "id": "lg1ySWeaSYmK"
      },
      "source": [
        "contours, hierarchy = cv2.findContours(np.uint8(dilated), mode=cv2.RETR_EXTERNAL, method=cv2.CHAIN_APPROX_SIMPLE)"
      ],
      "execution_count": null,
      "outputs": []
    },
    {
      "cell_type": "code",
      "metadata": {
        "id": "bUIxR8cAZx3W"
      },
      "source": [
        "contours"
      ],
      "execution_count": null,
      "outputs": []
    },
    {
      "cell_type": "code",
      "metadata": {
        "id": "lSEmaalLaJN0"
      },
      "source": [
        ""
      ],
      "execution_count": null,
      "outputs": []
    }
  ]
}